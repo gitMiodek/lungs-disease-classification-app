{
 "cells": [
  {
   "cell_type": "markdown",
   "id": "c6c73402",
   "metadata": {},
   "source": [
    "## TODO\n",
    "\n",
    "\n",
    "    scrap for a data:\n",
    "        - get x_rays images for healthy lungs and with illness\n",
    "        - prepare labaled directories\n",
    "        - ~split directiories into: train, val, test sets~\n",
    "    *NEW* get the data:\n",
    "        - since getting a nice and useful dataset from scrappin might be too much time consuming\n",
    "        i will use already prepared kaggle's x_ray dataset\n",
    "    plot the data:\n",
    "        - confront healthy lungs with an ill one\n",
    "    preprocess the data:\n",
    "        - openCV:\n",
    "            - what to do with this lib\n",
    "            - how to preprocess images\n",
    "            - can we save preprocessed images\n",
    "            - does it have any data augmenations\n",
    "            - for data augmentation i will oversample dataset\n",
    "            - which preprocessing techniques are most viables and why, what does each of them is for\n",
    "    build a model class:\n",
    "        - init neural network model:\n",
    "            - Since its image recognition task i will build CNN\n",
    "            - build NN\n",
    "        - perform training:\n",
    "            1. get prediction\n",
    "            2. compare it with actuall label\n",
    "            3. optimize weights (not weights for labels)\n",
    "            4. log results with proper /*metric*/:\n",
    "                - which metric should i focus on and what are the main difference\n",
    "                - As far as training dataset is conserned i will use accuracy since i will oversample that each class (Pneumonia/Normal) will have the same number of sample, but for validation i will use precision/recall to get info how many Positive labels are really true.\n",
    "        - perform validatiion:\n",
    "            steps are the same BUT we are not optimizing weights - we dont want to change weights durign validation process\n",
    "        - callback:\n",
    "            i want training to stop if it doesnt have any result after aprox ~ 5 epochs\n",
    "        - logging:\n",
    "            as mentioned I want to have everything logged:\n",
    "                - trainingng process\n",
    "                - validatiion process\n",
    "                to see wheteher there is overfittin/underfitting\n",
    "                And i want to have a clear comparison of metrics -> it will be used to determin quality of\n",
    "                chosen models\n",
    "    Perform training/validating\n",
    "    Count how many predictions are ok and how many were wrong:\n",
    "        - why they were wrong, plot images maybe to justify what they have incommon which influenced the results\n",
    "    Mby here some statistics comparison for each models?\n",
    "    \n",
    "##  AFTER THIS:\n",
    "\n",
    "    Testing?\n",
    "    API:\n",
    "        - i can create an API which will have prob one endpoint which accepts an Image of an x_ray to classify it\n",
    "        as healthyy or not:\n",
    "            * uploaded image will be preprocessed!\n",
    "        - it should work asynchronously!\n",
    "        - I want have celery workes so app will handle many executions\n",
    "        - Database would be also nice to store uploaded image -> add it to the training data so it can become bigger\n",
    "        - cover api with testing\n",
    "        - cover api with handling such things like:\n",
    "            - not a x_ray image\n",
    "            - not a chest_x_ray image\n",
    "            - bad quality of an image\n",
    "    Contenerization:\n",
    "        put everything into a docker\n",
    "           "
   ]
  },
  {
   "cell_type": "code",
   "execution_count": null,
   "id": "0d886da0",
   "metadata": {},
   "outputs": [],
   "source": [
    "#WEB SCRAPPING\n",
    "\n",
    "!pip install beautifulsoup4\n",
    "!pip install requests"
   ]
  },
  {
   "cell_type": "code",
   "execution_count": null,
   "id": "913c97e3",
   "metadata": {},
   "outputs": [],
   "source": [
    "!pip install opencv-python\n"
   ]
  },
  {
   "cell_type": "code",
   "execution_count": null,
   "id": "0e7eb21a",
   "metadata": {},
   "outputs": [],
   "source": [
    "!pip install matplotlib"
   ]
  },
  {
   "cell_type": "code",
   "execution_count": null,
   "id": "c87015f8",
   "metadata": {},
   "outputs": [],
   "source": [
    "!pip install Augmentor"
   ]
  },
  {
   "cell_type": "code",
   "execution_count": 1,
   "id": "0fef81f6",
   "metadata": {},
   "outputs": [
    {
     "name": "stderr",
     "output_type": "stream",
     "text": [
      "/home/jakub/miniconda3/envs/x_ray/lib/python3.10/site-packages/tqdm/auto.py:22: TqdmWarning: IProgress not found. Please update jupyter and ipywidgets. See https://ipywidgets.readthedocs.io/en/stable/user_install.html\n",
      "  from .autonotebook import tqdm as notebook_tqdm\n"
     ]
    }
   ],
   "source": [
    "import requests\n",
    "import os\n",
    "from urllib.request import urlretrieve\n",
    "from bs4 import BeautifulSoup\n",
    "\n",
    "import matplotlib.pyplot as plt\n",
    "import matplotlib.image as mpimg\n",
    "import seaborn as sns\n",
    "import cv2\n",
    "\n",
    "import numpy as np\n",
    "\n",
    "import Augmentor\n",
    "\n",
    "\n",
    "import torch\n",
    "from torch.utils.data import DataLoader\n",
    "from torchvision.datasets import ImageFolder\n",
    "from torchvision.transforms import transforms, Compose\n",
    "import torch.nn as nn\n",
    "import torch.nn.functional as F\n",
    "%matplotlib inline\n",
    "sns.set_style('white')\n"
   ]
  },
  {
   "cell_type": "code",
   "execution_count": null,
   "id": "d13817d5",
   "metadata": {
    "scrolled": true
   },
   "outputs": [],
   "source": [
    "#main address to look for images\n",
    "healthy_chest_url = 'https://www.google.com/search?q=healthy+chest+x+ray+images&tbm=isch&ved=2ahUKEwi2w9u21ov8AhWrk4sKHfa2CqcQ2-cCegQIABAA&oq=healthy+chest+x+ray+images&gs_lcp=CgNpbWcQAzIECCMQJ1C0B1jOCGDKEGgAcAB4AIABSYgB0gGSAQEzmAEAoAEBqgELZ3dzLXdpei1pbWfAAQE&sclient=img&ei=T32jY_bfIKunrgT27aq4Cg&bih=973&biw=1920'\n",
    "healthy_img_path = './x_ray_images/healthy/'\n",
    "\n",
    "unhealthy_chest_url = 'https://www.google.com/search?q=unhealthy+chest+x+ray+images&tbm=isch&sxsrf=ALiCzsZI0FcI4kOCdd2popyoRs-A8j7d3w%3A1671658828311&source=hp&biw=1920&bih=973&ei=TH2jY6rrEPKtrgTZ7pr4Ag&iflsig=AJiK0e8AAAAAY6OLXB5j25XmJTsKkC7Kn2ligOJdTDL0&oq=&gs_lcp=CgNpbWcQARgAMgcIIxDqAhAnMgcIIxDqAhAnMgcIIxDqAhAnMgcIIxDqAhAnMgcIIxDqAhAnMgcIIxDqAhAnMgcIIxDqAhAnMgcIIxDqAhAnMgcIIxDqAhAnMgcIIxDqAhAnUABYAGD3B2gBcAB4AIABAIgBAJIBAJgBAKoBC2d3cy13aXotaW1nsAEK&sclient=img'\n",
    "unhealthy_img_path = './x_ray_images/unhealthy/'\n",
    "\n"
   ]
  },
  {
   "cell_type": "code",
   "execution_count": null,
   "id": "afe8e628",
   "metadata": {},
   "outputs": [],
   "source": [
    "#Create a function to webscrap google images to get x_rays of chest\n",
    "def get_images(url: str, path: str):\n",
    "    #get the url content\n",
    "    response = requests.get(url)\n",
    "    soup = BeautifulSoup(response.text, 'html.parser')\n",
    "    #get content with \"img\" and from these get source links\n",
    "    get_all_tags = soup.find_all(\"img\")\n",
    "    links = [tag.get(\"src\") for tag in get_all_tags]\n",
    "    #create dir for images (healthy/unhealthy)\n",
    "    if not os.path.exists(path):\n",
    "        os.makedirs(path)\n",
    "    #download images from given links\n",
    "    for i, link in enumerate(links):\n",
    "        try:\n",
    "            urlretrieve(link, f'{path}/image no.{i}.jpg')\n",
    "        except ValueError:\n",
    "            continue  \n",
    "    "
   ]
  },
  {
   "cell_type": "code",
   "execution_count": null,
   "id": "bf192f4f",
   "metadata": {},
   "outputs": [],
   "source": [
    "#download healthy and unhealthy samples of x_ray_chest images\n",
    "get_images(healthy_chest_url, healthy_img_path)\n",
    "get_images(unhealthy_chest_url, unhealthy_img_path)"
   ]
  },
  {
   "cell_type": "code",
   "execution_count": null,
   "id": "0dd278c5",
   "metadata": {},
   "outputs": [],
   "source": [
    "#plot those images to see whether samples could be good for training\n",
    "\n",
    "def plot_images_from_dir(path: str):\n",
    "    #get list of the directories content\n",
    "    file_names = os.listdir(path)\n",
    "    n_rows,n_cols = 4, 5\n",
    "    fig, axs = plt.subplots(n_rows, n_cols, figsize=(10,10))\n",
    "    for ax, name in zip(axs.flat,file_names):\n",
    "        img = mpimg.imread(os.path.join(path, name))\n",
    "        ax.imshow(img)\n",
    "        ax.set_title(name)\n",
    "        ax.axis('off')\n",
    "    plt.show()\n",
    "    "
   ]
  },
  {
   "cell_type": "code",
   "execution_count": null,
   "id": "3c84169b",
   "metadata": {
    "scrolled": true
   },
   "outputs": [],
   "source": [
    "plot_images_from_dir(healthy_img_path)"
   ]
  },
  {
   "cell_type": "code",
   "execution_count": null,
   "id": "ea1f3f30",
   "metadata": {
    "scrolled": true
   },
   "outputs": [],
   "source": [
    "plot_images_from_dir(unhealthy_img_path)"
   ]
  },
  {
   "cell_type": "markdown",
   "id": "c9679c96",
   "metadata": {},
   "source": [
    "It appears that many images are not good samples for training (there are unhealthy lungs in healthy directory). \n",
    "I suppose it will be hard to get nice dataset from scrapping so lets keep samples that looks good for further testing (from the API user point of view)but for the model training I will use one of Kaggle's datasets. Dataset is already splited into train, val and test directories which has 2 folders NORMAL and PNEUMONIA\n"
   ]
  },
  {
   "cell_type": "code",
   "execution_count": null,
   "id": "9b338304",
   "metadata": {
    "scrolled": true
   },
   "outputs": [],
   "source": [
    "#investigate into dataset to show if there are any imbalances in the number of samples for each class\n",
    "val = []      # list of quantity of samples for each class in each dataset\n",
    "labels = [\"NORMAL\", \"PNEUMONIA\"]\n",
    "for i in os.listdir('./chest_xray/'):\n",
    "    tmp_val = []\n",
    "    for label in labels:\n",
    "        tmp = len(os.listdir(os.path.join(f'./chest_xray/{i}',label)))\n",
    "        tmp_val.append(tmp)\n",
    "    val.append(tmp_val)\n",
    "\n",
    "fig, axs = plt.subplots(1,3, figsize=(12,5))\n",
    "for ax, value, name in zip(axs, val, os.listdir('./chest_xray/')):\n",
    "    colors = ['#1f77b4', '#ff7f0e']\n",
    "    \n",
    "\n",
    "    # Plot the bars\n",
    "    sns.barplot(x=labels, y=value, palette=colors, ax=ax, width=0.5)\n",
    "\n",
    "    # Add a title to the plot\n",
    "    ax.set_title(f'Patient Diagnoses {name}')\n",
    "\n",
    "    # Add a label to the y-axis\n",
    "    ax.set_ylabel('Number of Patients')\n",
    "    ax.set_xticklabels(labels, rotation=45)\n",
    "\n",
    "\n",
    "    # Show the plot\n",
    "plt.show()"
   ]
  },
  {
   "cell_type": "markdown",
   "id": "a4d8979b",
   "metadata": {},
   "source": [
    "As u can see classes of the datasets are imbalanced. In order to balance them i will oversample normal one. Additionaly in validation set there are only 16 images which is really low. My idea is to oversample training dataset, oversample validation set, combine them together and then split into 80-20/ 90-10 train/val set\n"
   ]
  },
  {
   "cell_type": "code",
   "execution_count": null,
   "id": "5639e500",
   "metadata": {
    "scrolled": true
   },
   "outputs": [],
   "source": [
    "train_normal_pic = './chest_xray/train/NORMAL/'\n",
    "train_pneumonia_pic = './chest_xray/train/PNEUMONIA/'\n",
    "test_normal_pic = './chest_xray/test/NORMAL/'\n",
    "test_pneumonia_pic = './chest_xray/test/PNEUMONIA/'\n",
    "val_normal_pic = './chest_xray/val/NORMAL/'\n",
    "val_pneumonia_pic = './chest_xray/val/PNEUMONIA/'\n",
    "all_dir = [train_normal_pic, train_pneumonia_pic, test_normal_pic, test_pneumonia_pic,\n",
    "             val_normal_pic, val_pneumonia_pic]\n",
    "for dirc in all_dir:\n",
    "    print(dirc)\n",
    "normal_pic = os.listdir(all_dir[0])\n",
    "pneumonia_pic = os.listdir(all_dir[1])\n",
    "print(normal_pic[0])"
   ]
  },
  {
   "cell_type": "code",
   "execution_count": null,
   "id": "771ce324",
   "metadata": {},
   "outputs": [],
   "source": [
    "fig, ax = plt.subplots(2,4, figsize=(10,5))\n",
    "for i, ax in zip(range(8), ax.flat):\n",
    "    if i < 4:\n",
    "        img = mpimg.imread(f'./chest_xray/train/NORMAL/{normal_pic[i]}')\n",
    "        ax.imshow(img, cmap='gray')\n",
    "        ax.set_title(f'Healthy no.{i+1}')\n",
    "        ax.axis('off')\n",
    "    else:\n",
    "        img = mpimg.imread(f'./chest_xray/train/PNEUMONIA//{pneumonia_pic[i]}')\n",
    "        ax.imshow(img, cmap='gray')\n",
    "        ax.set_title(f'Pneumonia no.{i-3}')\n",
    "        ax.axis('off')\n",
    "        \n",
    "    \n",
    "        \n",
    "                   \n",
    "    "
   ]
  },
  {
   "cell_type": "markdown",
   "id": "ce778219",
   "metadata": {},
   "source": [
    "Since some images of pneumonia are really rough to see by an eye I will experiment with some image preprocessing techniques in order to achieve better quality of the dataset"
   ]
  },
  {
   "cell_type": "code",
   "execution_count": null,
   "id": "cac1ca1d",
   "metadata": {},
   "outputs": [],
   "source": [
    "base_image = cv2.imread(f'./chest_xray/train/PNEUMONIA/{pneumonia_pic[0]}', cv2.IMREAD_UNCHANGED)\n",
    "fig, ax = plt.subplots(1, 2, figsize=(10,5))\n",
    "ax[0].imshow(base_image, cmap='gray')\n",
    "ax[0].axis('off')\n",
    "\n",
    "#Gausian blur to compare it with original image to increase sharpness of the image\n",
    "blure_img = cv2.GaussianBlur(base_image, (9, 9), 3.0)\n",
    "image_sharp = cv2.addWeighted(base_image, 0.75, blure_img, 0.5, 0)\n",
    "ax[1].imshow(image_sharp, cmap='gray')\n",
    "plt.show()\n"
   ]
  },
  {
   "cell_type": "code",
   "execution_count": null,
   "id": "5715d2b8",
   "metadata": {},
   "outputs": [],
   "source": [
    "#Noise removal with gauss kernel\n",
    "image = cv2.imread(f'./chest_xray/train/PNEUMONIA/{pneumonia_pic[0]}', cv2.IMREAD_GRAYSCALE)\n",
    "fig, ax = plt.subplots(2, 3, figsize=(15,5))\n",
    "image_smoothed_1 = cv2.GaussianBlur(image, (1, 1), 1.0)\n",
    "image_smoothed_2 = cv2.GaussianBlur(image, (5, 5), 2.0)\n",
    "image_smoothed_3 = cv2.GaussianBlur(image, (7, 7), 7.0)\n",
    "image_smoothed_4 = cv2.GaussianBlur(image, (9, 9), 4.0)\n",
    "image_smoothed_5 = cv2.GaussianBlur(image, (11,11), 5.0)\n",
    "images = [image, image_smoothed_1, image_smoothed_2, image_smoothed_3,\n",
    "         image_smoothed_4,image_smoothed_5]\n",
    "titles = ['Original image','Kernel size: 3x3, std dev: 3.0','Kernel size: 5x5, std dev: 2.0',\n",
    "          'Kernel size: 7x7, std dev: 3.0','Kernel size: 9x9, std dev: 4.0','Kernel size: 11x11, std dev: 5.0']\n",
    "for axs, title, img in zip(ax.flat, titles, images):\n",
    "    axs.imshow(img, cmap='gray')\n",
    "    axs.set_title(title)\n",
    "    axs.axis('off')\n",
    "\n",
    "plt.show()"
   ]
  },
  {
   "cell_type": "code",
   "execution_count": null,
   "id": "5cfc4d14",
   "metadata": {},
   "outputs": [],
   "source": [
    "#Transform images into binary ones\n",
    "fig, ax = plt.subplots(2,4, figsize=(10,5))\n",
    "for i, ax in zip(range(8), ax.flat):\n",
    "    if i < 4:\n",
    "        img = cv2.imread(f'./chest_xray/train/NORMAL/{normal_pic[i]}', cv2.IMREAD_GRAYSCALE)\n",
    "        _, img = cv2.threshold(img, 50, 100, cv2.THRESH_BINARY + cv2.THRESH_OTSU)\n",
    "\n",
    "        ax.imshow(img, cmap='gray')\n",
    "        ax.set_title(f'Healthy to binary no.{i+1}')\n",
    "        ax.axis('off')\n",
    "    else:\n",
    "        img = cv2.imread(f'./chest_xray/train/PNEUMONIA/{pneumonia_pic[i]}', cv2.IMREAD_GRAYSCALE)\n",
    "        _, img = cv2.threshold(img, 50, 100, cv2.THRESH_BINARY + cv2.THRESH_OTSU)\n",
    "\n",
    "        ax.imshow(img, cmap='gray')\n",
    "        ax.set_title(f'Pneumonia to binary no.{i-3}')\n",
    "        ax.axis('off')"
   ]
  },
  {
   "cell_type": "code",
   "execution_count": null,
   "id": "3fec3d39",
   "metadata": {
    "scrolled": true
   },
   "outputs": [],
   "source": [
    "#erosion\n",
    "fig, ax = plt.subplots(2,4, figsize=(10,5))\n",
    "kernel = np.ones((11,11), np.uint8)\n",
    "for i, ax in zip(range(8), ax.flat):\n",
    "    if i < 4:\n",
    "        img = cv2.imread(f'./chest_xray/train/NORMAL/{normal_pic[i]}', cv2.IMREAD_GRAYSCALE)\n",
    "        img = cv2.erode(img, kernel,iterations=1)\n",
    "\n",
    "        ax.imshow(img, cmap='gray')\n",
    "        ax.set_title(f'Healthy eroded no.{i+1}')\n",
    "        ax.axis('off')\n",
    "    else:\n",
    "        img = cv2.imread(f'./chest_xray/train/PNEUMONIA/{pneumonia_pic[i]}', cv2.IMREAD_GRAYSCALE)\n",
    "        img = cv2.erode(img, kernel,iterations=1)\n",
    "\n",
    "        ax.imshow(img, cmap='gray')\n",
    "        ax.set_title(f'Pneumonia eroded no.{i-3}')\n",
    "        ax.axis('off')"
   ]
  },
  {
   "cell_type": "code",
   "execution_count": null,
   "id": "71765170",
   "metadata": {
    "scrolled": true
   },
   "outputs": [],
   "source": [
    "#dilation\n",
    "fig, ax = plt.subplots(2,4, figsize=(10,5))\n",
    "kernel = np.ones((9,9), np.uint8)\n",
    "for i, ax in zip(range(8), ax.flat):\n",
    "    if i < 4:\n",
    "        img = cv2.imread(f'./chest_xray/train/NORMAL/{normal_pic[i]}', cv2.IMREAD_GRAYSCALE)\n",
    "        img = cv2.dilate(img, kernel,iterations=3)\n",
    "\n",
    "        ax.imshow(img, cmap='gray')\n",
    "        ax.set_title(f'Healthy dilated no.{i+1}')\n",
    "        ax.axis('off')\n",
    "    else:\n",
    "        img = cv2.imread(f'./chest_xray/train/PNEUMONIA/{pneumonia_pic[i]}', cv2.IMREAD_GRAYSCALE)\n",
    "        img = cv2.dilate(img, kernel,iterations=3)\n",
    "\n",
    "        ax.imshow(img, cmap='gray')\n",
    "        ax.set_title(f'Pneumonia dilated no.{i-3}')\n",
    "        ax.axis('off')"
   ]
  },
  {
   "cell_type": "code",
   "execution_count": null,
   "id": "54e6b2bc",
   "metadata": {},
   "outputs": [],
   "source": [
    "#try to draw contours on binary images\n",
    "fig, ax = plt.subplots(2,4, figsize=(10,5))\n",
    "for i, ax in zip(range(8), ax.flat):\n",
    "    if i < 4:\n",
    "        image = cv2.imread(f'./chest_xray/train/NORMAL/{normal_pic[i]}', cv2.IMREAD_GRAYSCALE)\n",
    "        _, img = cv2.threshold(image, 0, 255, cv2.THRESH_BINARY + cv2.THRESH_OTSU)\n",
    "        contours, _ = cv2.findContours(img, cv2.RETR_TREE, cv2.CHAIN_APPROX_SIMPLE)\n",
    "        cv2.drawContours(img, contours, -1, (0,255,0), 3)\n",
    "        ax.imshow(img, cmap='gray')\n",
    "        ax.set_title(f'Healthy to binary no.{i+1}')\n",
    "        ax.axis('off')\n",
    "    else:\n",
    "        img = cv2.imread(f'./chest_xray/train/PNEUMONIA/{pneumonia_pic[i]}', cv2.IMREAD_GRAYSCALE)\n",
    "        _, img = cv2.threshold(image, 0, 255, cv2.THRESH_BINARY + cv2.THRESH_OTSU)\n",
    "        contours, _ = cv2.findContours(img, cv2.RETR_TREE, cv2.CHAIN_APPROX_SIMPLE)\n",
    "        cv2.drawContours(img, contours, -1, (0,255,0), 3)\n",
    "        ax.imshow(img, cmap='gray')\n",
    "        ax.imshow(img, cmap='gray')\n",
    "        ax.set_title(f'Pneumonia to binary no.{i-3}')\n",
    "        ax.axis('off')"
   ]
  },
  {
   "cell_type": "code",
   "execution_count": null,
   "id": "c757626c",
   "metadata": {},
   "outputs": [],
   "source": [
    "#Normalization n standarization \n",
    "fig, ax = plt.subplots(1,3, figsize=(10,5))\n",
    "img = cv2.imread(f'./chest_xray/train/NORMAL/{normal_pic[0]}')\n",
    "gray_img = cv2.cvtColor(img, cv2.COLOR_BGR2GRAY)\n",
    "standardized = (gray_img - np.mean(gray_img)) / np.std(gray_img)\n",
    "normalized = (standardized - np.min(standardized)) / (np.max(standardized) - np.min(standardized))\n",
    "ax[0].imshow(img, cmap='gray')\n",
    "ax[0].set_title('Original Image')\n",
    "ax[1].imshow(standardized, cmap='gray')\n",
    "ax[1].set_title('Standarized image')\n",
    "ax[2].imshow(normalized, cmap='gray')\n",
    "ax[2].set_title('Standarized and normalized image')\n",
    "plt.show()\n",
    "    "
   ]
  },
  {
   "cell_type": "code",
   "execution_count": null,
   "id": "e9b20216",
   "metadata": {},
   "outputs": [],
   "source": [
    "def preprocess_image(img_path: str):\n",
    "    img = cv2.imread(img_path)\n",
    "    gray_img = cv2.cvtColor(img, cv2.COLOR_BGR2GRAY)\n",
    "    erosion_kernel = np.ones((9,9), np.uint8)\n",
    "#     standardized = (gray_img - np.mean(gray_img)) / np.std(gray_img)\n",
    "#     normalized = (standardized - np.min(standardized)) / (np.max(standardized) - np.min(standardized))\n",
    "    blure_img = cv2.GaussianBlur(gray_img, (3, 3), 3.0)\n",
    "    image_sharp = cv2.addWeighted(gray_img, 0.75, blure_img, 0.75, 0)\n",
    "    eroded = cv2.erode(image_sharp, erosion_kernel,iterations=1)\n",
    "#     img_resized = cv2.resize(eroded, (640,420))\n",
    "    return eroded"
   ]
  },
  {
   "cell_type": "code",
   "execution_count": null,
   "id": "727e9669",
   "metadata": {
    "scrolled": false
   },
   "outputs": [],
   "source": [
    "# Compare original image with an image fully preprocessed (normalization, stadarization, erosion, increased_sharpness)\n",
    "img = cv2.imread(f'./chest_xray/train/NORMAL/{normal_pic[0]}')\n",
    "gray_img = cv2.cvtColor(img, cv2.COLOR_BGR2GRAY)\n",
    "erosion_kernel = np.ones((9,9), np.uint8)\n",
    "standardized = (gray_img - np.mean(gray_img)) / np.std(gray_img)\n",
    "normalized = (standardized - np.min(standardized)) / (np.max(standardized) - np.min(standardized))\n",
    "blure_img = cv2.GaussianBlur(normalized, (3, 3), 3.0)\n",
    "image_sharp = cv2.addWeighted(normalized, 0.75, blure_img, 0.5, 0)\n",
    "eroded = cv2.erode(image_sharp, erosion_kernel,iterations=1)\n",
    "fig, ax = plt.subplots(1, 2, figsize=(10,5))\n",
    "ax[0].imshow(img, cmap='gray')\n",
    "ax[0].set_title('Original image')\n",
    "ax[0].axis('off')\n",
    "ax[1].imshow(eroded, cmap='gray')\n",
    "ax[1].set_title('Fully preprocessed image')\n",
    "ax[1].axis('off')\n",
    "plt.show()\n",
    "\n",
    "\n"
   ]
  },
  {
   "cell_type": "code",
   "execution_count": 2,
   "id": "15c8d2c8",
   "metadata": {},
   "outputs": [],
   "source": [
    "#New directories for preprocessed images\n",
    "paths = ['./chest_xray_prep/train/NORMAL/','./chest_xray_prep/train/PNEUMONIA/',\n",
    "         './chest_xray_prep/test/NORMAL/','./chest_xray_prep/test/PNEUMONIA/',\n",
    "         './chest_xray_prep/val/NORMAL/', './chest_xray_prep/val/NORMAL/']\n",
    "norm_paths = ['./chest_xray/train/NORMAL/','./chest_xray/train/PNEUMONIA/']\n",
    "val_paths = ['./chest_xray/val/NORMAL/','./chest_xray/val/PNEUMONIA/']\n",
    "for path in paths:\n",
    "    if not os.path.exists(path):\n",
    "        os.makedirs(path)"
   ]
  },
  {
   "cell_type": "markdown",
   "id": "e75ddd2a",
   "metadata": {},
   "source": [
    "To correctly save images I would have to extend the value of pixels which will colide with normalization and standardization techniques. To break this issue I will not normalize/standardize image during 1st preprocess step. I will do it while loading input to the models. To sum up data pipeline will look like this:\n",
    "    1. Preproces image applying gausian blur (which helps up with the img sharpness) and erosion\n",
    "    2. Augment image to perform oversampling to make each class equal with the quantity of samples\n",
    "    3. Split images into batches\n",
    "    4. Resize, standardize and normalize each image while puting it into a model"
   ]
  },
  {
   "cell_type": "code",
   "execution_count": null,
   "id": "34793c66",
   "metadata": {
    "scrolled": true
   },
   "outputs": [],
   "source": [
    "#Save preprocessed images to the new directories\n",
    "fig, ax = plt.subplots(1, 2, figsize=(10,10))\n",
    "for directory, path in zip(all_dir, paths):\n",
    "    for i, picture in enumerate(os.listdir(directory)):\n",
    "        prep = preprocess_image(os.path.join(directory, picture))\n",
    "#         ax[0].imshow(prep, cmap='gray')\n",
    "#         print(prep.dtype)\n",
    "        cv2.imwrite(f'{path}{i}.png', prep)\n",
    "#         example = cv2.imread(f'{path}{i}.png')\n",
    "#         print(example.dtype)\n",
    "#         ax[1].imshow(example)\n",
    "        \n",
    "#         break\n",
    "        \n",
    "    \n",
    "    \n",
    "    \n",
    "    "
   ]
  },
  {
   "cell_type": "markdown",
   "id": "cdfec46e",
   "metadata": {},
   "source": [
    "Unfortunatelly there are many samples which are not readable after this preprocessing, so not to overload the model. Lets focus now on data augmentation to oversample classes and while loading data in DataLoader images will be resized, normalized and standardized. If the results will be not sattisfing. More img preprocessing techniques will be applied"
   ]
  },
  {
   "cell_type": "code",
   "execution_count": null,
   "id": "a38d1032",
   "metadata": {},
   "outputs": [],
   "source": [
    "for path in paths[:2]:\n",
    "    print(path, len(os.listdir(path)))"
   ]
  },
  {
   "cell_type": "code",
   "execution_count": null,
   "id": "00e75297",
   "metadata": {},
   "outputs": [],
   "source": [
    "#Oversample training data with augmentation\n",
    "for path in tqdm(norm_paths):    \n",
    "    p = Augmentor.Pipeline(f'{path}')\n",
    "    p.rotate(probability=0.8, max_left_rotation=15, max_right_rotation=15)\n",
    "    p.flip_left_right(probability=0.8)\n",
    "    p.random_distortion(probability=0.8, grid_width=12, grid_height=12, magnitude=4)\n",
    "    p.shear(probability=0.8, max_shear_left=15, max_shear_right=15)\n",
    "    p.sample(4500, multi_threaded=True)\n",
    "    "
   ]
  },
  {
   "cell_type": "code",
   "execution_count": null,
   "id": "11564697",
   "metadata": {},
   "outputs": [],
   "source": [
    "#Oversample validation data with augmentations\n",
    "for path in tqdm(val_paths):    \n",
    "    p = Augmentor.Pipeline(f'{path}')\n",
    "    p.rotate(probability=0.8, max_left_rotation=15, max_right_rotation=15)\n",
    "    p.flip_left_right(probability=0.8)\n",
    "    p.random_distortion(probability=0.8, grid_width=12, grid_height=12, magnitude=4)\n",
    "    p.shear(probability=0.8, max_shear_left=15, max_shear_right=15)\n",
    "    p.sample(64, multi_threaded=True)"
   ]
  },
  {
   "cell_type": "code",
   "execution_count": null,
   "id": "0b516f6a",
   "metadata": {},
   "outputs": [],
   "source": [
    "#remove old images, put images from the augmentions output into the label dir and then remove the output dir itself\n",
    "# Delete all images in the root folder\n",
    "for path in val_paths:\n",
    "    for file in os.listdir(path):\n",
    "        if file.endswith('.jpeg'):\n",
    "            os.remove(f'{path}/{file}')\n",
    "\n",
    "    # Copy the contents of the output folder to the root folder\n",
    "    for file in os.listdir(f'{path}/output'):\n",
    "        os.rename(f'{path}/output/{file}', f'{path}/{file}')\n",
    "\n"
   ]
  },
  {
   "cell_type": "code",
   "execution_count": null,
   "id": "1473b7c8",
   "metadata": {},
   "outputs": [],
   "source": [
    "# Remove the output folder\n",
    "for path in val_paths:\n",
    "    os.rmdir(f'{path}/output')"
   ]
  },
  {
   "cell_type": "code",
   "execution_count": null,
   "id": "a48e5fe3",
   "metadata": {},
   "outputs": [],
   "source": [
    "for path in norm_paths:\n",
    "    for file in os.listdir(path):\n",
    "        if file.endswith('.jpeg'):\n",
    "            os.remove(f'{path}/{file}')\n",
    "\n",
    "    # Copy the contents of the output folder to the root folder\n",
    "    for file in os.listdir(f'{path}/output'):\n",
    "        os.rename(f'{path}/output/{file}', f'{path}/{file}')"
   ]
  },
  {
   "cell_type": "code",
   "execution_count": null,
   "id": "bfa97881",
   "metadata": {},
   "outputs": [],
   "source": [
    "for path in norm_paths:\n",
    "    os.rmdir(f'{path}/output')"
   ]
  },
  {
   "cell_type": "code",
   "execution_count": null,
   "id": "d9ef7c3a",
   "metadata": {},
   "outputs": [],
   "source": [
    "#4500 norm, 64 val -> we need to move 400 images from norm to val, shuffle all and datasets will be ready\n",
    "for norm_path, val_path in zip(norm_paths, val_paths):\n",
    "    for file in os.listdir(val_path)[:4101]:\n",
    "        os.rename(f'{val_path}/{file}', f'{norm_path}/{file}')\n"
   ]
  },
  {
   "cell_type": "code",
   "execution_count": null,
   "id": "f05c2756",
   "metadata": {},
   "outputs": [],
   "source": [
    "for path in norm_paths:\n",
    "    print(path, len(os.listdir(path)))\n",
    "for path in val_paths:\n",
    "    print(path, len(os.listdir(path)))"
   ]
  },
  {
   "cell_type": "markdown",
   "id": "117410bc",
   "metadata": {},
   "source": [
    "Data is preprocessed - time to build model"
   ]
  },
  {
   "cell_type": "code",
   "execution_count": 3,
   "id": "163bd58b",
   "metadata": {},
   "outputs": [],
   "source": [
    "#Hyperparams\n",
    "\n",
    "DEVICE = torch.device('cuda' if torch.cuda.is_available() else 'cpu')\n",
    "IMG_SIZE = 128\n",
    "MEAN = [0.5]\n",
    "STD = [0.5]\n",
    "TRAIN_BATCH_SIZE = 64\n",
    "VAL_BATCH_SIZE = 16\n",
    "TRAIN_DIR = './chest_xray/train/'\n",
    "VAL_DIR = './chest_xray/val/'\n",
    "TEST_DIR = './chest_xray/test/'\n",
    "MODEL_PATH = 'best-model.pt'\n",
    "SECOND_MODEL_PATH = 'second-model.pt'\n"
   ]
  },
  {
   "cell_type": "code",
   "execution_count": 4,
   "id": "349fa18e",
   "metadata": {},
   "outputs": [],
   "source": [
    "def to_device(data, device):\n",
    "    \"\"\"Move tensor(s) to chosen device\"\"\"\n",
    "    if isinstance(data, (list,tuple)):\n",
    "        return [to_device(x, device) for x in data]\n",
    "    return data.to(device, non_blocking=True)\n"
   ]
  },
  {
   "cell_type": "code",
   "execution_count": 5,
   "id": "5b61a4a7",
   "metadata": {},
   "outputs": [],
   "source": [
    "def standarization(image: torch.tensor):\n",
    "    image -= image.mean()\n",
    "    image /= image.std()\n",
    "    return image\n"
   ]
  },
  {
   "cell_type": "code",
   "execution_count": 6,
   "id": "a36fa828",
   "metadata": {},
   "outputs": [],
   "source": [
    "train_img_transforms = transforms.Compose([transforms.Resize((IMG_SIZE, IMG_SIZE)),\n",
    "                                     transforms.Grayscale(),\n",
    "                                      transforms.RandomHorizontalFlip(),\n",
    "                                        transforms.RandomRotation(15), \n",
    "                                     transforms.ToTensor(),\n",
    "                                     transforms.Normalize(mean=MEAN, std=STD),\n",
    "                                     standarization,\n",
    "                                            ])\n",
    "val_img_transforms = transforms.Compose([transforms.Resize((IMG_SIZE, IMG_SIZE)),\n",
    "                                     transforms.Grayscale(),\n",
    "\n",
    "                                     transforms.ToTensor(),\n",
    "                                     transforms.Normalize(mean=MEAN, std=STD),\n",
    "                                     standarization,\n",
    "                                            ])\n"
   ]
  },
  {
   "cell_type": "code",
   "execution_count": 14,
   "id": "d64a85a1",
   "metadata": {},
   "outputs": [],
   "source": [
    "class EarlyStoppingCallback:\n",
    "    def __init__(self, model_path=MODEL_PATH, patience=5,):\n",
    "        self.patience = patience\n",
    "        self.best_loss = float('inf')\n",
    "        self.counter = 0\n",
    "        self.stop = False\n",
    "        self.model_path = model_path\n",
    "    \n",
    "    def __call__(self, epoch, result):\n",
    "        val_loss = result['val_loss']\n",
    "        if val_loss < self.best_loss:\n",
    "            self.best_loss = val_loss\n",
    "            self.counter = 0\n",
    "            torch.save(model.state_dict(), self.model_path)\n",
    "        else:\n",
    "            self.counter += 1\n",
    "            if self.counter >= self.patience:\n",
    "                self.stop = True"
   ]
  },
  {
   "cell_type": "code",
   "execution_count": null,
   "id": "b024aea9",
   "metadata": {},
   "outputs": [],
   "source": []
  },
  {
   "cell_type": "code",
   "execution_count": 15,
   "id": "be70e852",
   "metadata": {},
   "outputs": [],
   "source": [
    "class GPUloader:\n",
    "    \"\"\"Wrapper for the dataloader class to automatically move data to chosen device\"\"\"\n",
    "    def __init__(self, dataloader, device):\n",
    "        self.dataloader = dataloader\n",
    "        self.device = device\n",
    "    def __iter__(self):\n",
    "        for batch in self.dataloader:\n",
    "            yield to_device(batch, self.device)\n",
    "    def __len__(self):\n",
    "        return len(self.batch)\n",
    "    "
   ]
  },
  {
   "cell_type": "code",
   "execution_count": 10,
   "id": "67947180",
   "metadata": {},
   "outputs": [],
   "source": [
    "def create_dataloader(dir_path: str, batch_size: int, transforms, device):\n",
    "    \"\"\"Create dataloader and automaticaly move data to chosen device\"\"\"\n",
    "    dataset = ImageFolder(dir_path, transform=transforms)\n",
    "    loader = DataLoader(dataset=dataset, batch_size=batch_size, shuffle=True,\n",
    "                            num_workers=os.cpu_count(), \n",
    "                            pin_memory=True if DEVICE == \"cuda\" else False )\n",
    "    loader = GPUloader(loader, device)\n",
    "    return loader\n"
   ]
  },
  {
   "cell_type": "code",
   "execution_count": 11,
   "id": "e1b7ce8e",
   "metadata": {},
   "outputs": [],
   "source": [
    "train_loader = create_dataloader(dir_path=TRAIN_DIR, batch_size=TRAIN_BATCH_SIZE, \n",
    "                                 transforms=train_img_transforms, device=DEVICE)\n",
    "val_loader = create_dataloader(dir_path=VAL_DIR, batch_size=VAL_BATCH_SIZE, \n",
    "                               transforms=val_img_transforms, device=DEVICE)\n"
   ]
  },
  {
   "cell_type": "code",
   "execution_count": 12,
   "id": "9f1e0e9b",
   "metadata": {},
   "outputs": [],
   "source": [
    "def accuracy(output: torch.tensor, label: torch.tensor):\n",
    "    \"\"\"Compute accuracy of correct predictions\"\"\"\n",
    "    _, preds = torch.max(output, dim=1)\n",
    "    return torch.tensor(torch.sum(preds == label).item() / len(preds))\n"
   ]
  },
  {
   "cell_type": "code",
   "execution_count": 16,
   "id": "da882a6d",
   "metadata": {},
   "outputs": [],
   "source": [
    "def fit(epochs, lr, model, train_loader, val_loader, opt_func=torch.optim.SGD,early_stop=EarlyStoppingCallback()):\n",
    "    \"\"\"Training and evaluation loops\"\"\"    \n",
    "    optimizer = opt_func(model.parameters(), lr)\n",
    "    history = []\n",
    "    for epoch in range(epochs):\n",
    "        \n",
    "        model.train()  # Training phase\n",
    "        train_loss = []       \n",
    "        for batch in train_loader:\n",
    "            loss = model.training_step(batch)\n",
    "            train_loss.append(loss)\n",
    "            loss.backward()\n",
    "            optimizer.step()\n",
    "            optimizer.zero_grad()\n",
    "        # val phase\n",
    "        result = evaluate(model, val_loader)\n",
    "        result['train_loss'] = torch.stack(train_loss).mean().item()\n",
    "        model.epoch_end(epoch, result)\n",
    "        history.append(result)\n",
    "        early_stop(epoch, result)\n",
    "        if early_stop.stop:\n",
    "            print(f\"Training finished after: {epoch} epoch\")\n",
    "            break\n",
    "\n",
    "    return history\n"
   ]
  },
  {
   "cell_type": "code",
   "execution_count": 17,
   "id": "9755ab40",
   "metadata": {},
   "outputs": [],
   "source": [
    "\n",
    "def evaluate(model, val_loader):\n",
    "    \"\"\"Validate model performance and return collected metrics\"\"\"\n",
    "    model.eval() #nn.module property to set the model into a evaluation mode\n",
    "    with torch.no_grad():\n",
    "        outputs = [model.validation_step(batch) for batch in val_loader]\n",
    "        return model.validation_epoch_end(outputs)\n"
   ]
  },
  {
   "cell_type": "code",
   "execution_count": 26,
   "id": "0e712c48",
   "metadata": {},
   "outputs": [],
   "source": [
    "class GeneralSteps(nn.Module):\n",
    "    \n",
    "    \"\"\"Class with general steps that are being made while training/validating model. \n",
    "    It will be useful while different models so there is no need to copy this step in every model class\"\"\"\n",
    "    \n",
    "  \n",
    "    def training_step(self, batch):\n",
    "        images, labels = batch\n",
    "        out = self(images)\n",
    "        loss = F.cross_entropy(out, labels) \n",
    "        return loss\n",
    "        \n",
    "    \n",
    "    def validation_step(self, batch):\n",
    "        images, labels = batch\n",
    "        out = self(images)\n",
    "        loss = F.cross_entropy(out, labels)\n",
    "        acc = accuracy(out, labels)\n",
    "        return {'val_loss': loss, 'val_acc': acc}\n",
    "    \n",
    "    def validation_epoch_end(self, outputs):\n",
    "        batch_losses = [x['val_loss'] for x in outputs]\n",
    "        epoch_loss = torch.stack(batch_losses).mean()\n",
    "        batch_accs = [x['val_acc'] for x in outputs]\n",
    "        epoch_acc = torch.stack(batch_accs).mean()\n",
    "        return {\"val_loss\": epoch_loss.item(), 'val_acc': epoch_acc.item()}\n",
    "    \n",
    "    def epoch_end(self, epoch, result):\n",
    "        print(f\"Epoch [{epoch}], val_loss: {result['val_loss']:.4f}, val_acc: {result['val_acc']:.4f}\")\n",
    "        \n",
    "        \n"
   ]
  },
  {
   "cell_type": "code",
   "execution_count": 19,
   "id": "f670b146",
   "metadata": {},
   "outputs": [],
   "source": [
    "class X_rayClassification(GeneralSteps):\n",
    "    \"\"\"First model will include custom architecture of CNN and linear NN\"\"\"\n",
    "    \n",
    "    def __init__(self):\n",
    "        super().__init__()\n",
    "        self.network = nn.Sequential(\n",
    "            nn.Conv2d(1, 12, kernel_size=3, padding=1, padding_mode=\"zeros\"),\n",
    "            nn.ReLU(),\n",
    "            nn.Conv2d(12, 48, kernel_size=3, padding=1, padding_mode=\"zeros\"),\n",
    "            nn.ReLU(),\n",
    "            nn.MaxPool2d(2, 2),\n",
    "            \n",
    "            #size after 1st layer: 48 x IMG_SIZE / 2 x IMG_SIZE / 2\n",
    "\n",
    "            nn.Conv2d(48, 128, kernel_size=3, padding=1, padding_mode=\"zeros\"),\n",
    "            nn.ReLU(),\n",
    "            nn.Conv2d(128, 128, kernel_size=3, padding=1, padding_mode=\"zeros\"),\n",
    "            nn.ReLU(),\n",
    "            nn.MaxPool2d(2, 2), # output: 128 x 8 x 8\n",
    "            \n",
    "            #size after 2nd layer: 128 x IMG_SIZE / 4 x IMG_SIZE / 4\n",
    "\n",
    "            nn.Conv2d(128, 256, kernel_size=3, padding=1, padding_mode=\"zeros\"),\n",
    "            nn.ReLU(),\n",
    "            nn.Conv2d(256, 256, kernel_size=3, padding=1, padding_mode=\"zeros\"),\n",
    "            nn.ReLU(),\n",
    "            nn.MaxPool2d(2, 2),\n",
    "            \n",
    "            #size after 3rd layer: 256 x IMG_SIZE / 8 x IMG_SIZE / 8\n",
    "            \n",
    "\n",
    "            nn.Flatten(), \n",
    "            nn.Linear(256*16*16, 2048),\n",
    "            nn.ReLU(),\n",
    "            nn.Linear(2048, 512),\n",
    "            nn.ReLU(),\n",
    "            nn.Linear(512, 128),\n",
    "            nn.ReLU(),\n",
    "            nn.Linear(128, 2))\n",
    "        \n",
    "    def forward(self, xb):\n",
    "        return self.network(xb)\n",
    " "
   ]
  },
  {
   "cell_type": "code",
   "execution_count": 16,
   "id": "3a2c05ae",
   "metadata": {},
   "outputs": [],
   "source": [
    "#create an instance of model's class\n",
    "model = X_rayClassification()\n"
   ]
  },
  {
   "cell_type": "code",
   "execution_count": null,
   "id": "5e63b834",
   "metadata": {},
   "outputs": [],
   "source": [
    "model.to(DEVICE)"
   ]
  },
  {
   "cell_type": "code",
   "execution_count": 17,
   "id": "42deee4f",
   "metadata": {
    "scrolled": false
   },
   "outputs": [
    {
     "data": {
      "text/plain": [
       "X_rayClassification(\n",
       "  (network): Sequential(\n",
       "    (0): Conv2d(1, 12, kernel_size=(3, 3), stride=(1, 1), padding=(1, 1))\n",
       "    (1): ReLU()\n",
       "    (2): Conv2d(12, 48, kernel_size=(3, 3), stride=(1, 1), padding=(1, 1))\n",
       "    (3): ReLU()\n",
       "    (4): MaxPool2d(kernel_size=2, stride=2, padding=0, dilation=1, ceil_mode=False)\n",
       "    (5): Conv2d(48, 128, kernel_size=(3, 3), stride=(1, 1), padding=(1, 1))\n",
       "    (6): ReLU()\n",
       "    (7): Conv2d(128, 128, kernel_size=(3, 3), stride=(1, 1), padding=(1, 1))\n",
       "    (8): ReLU()\n",
       "    (9): MaxPool2d(kernel_size=2, stride=2, padding=0, dilation=1, ceil_mode=False)\n",
       "    (10): Conv2d(128, 256, kernel_size=(3, 3), stride=(1, 1), padding=(1, 1))\n",
       "    (11): ReLU()\n",
       "    (12): Conv2d(256, 256, kernel_size=(3, 3), stride=(1, 1), padding=(1, 1))\n",
       "    (13): ReLU()\n",
       "    (14): MaxPool2d(kernel_size=2, stride=2, padding=0, dilation=1, ceil_mode=False)\n",
       "    (15): Flatten(start_dim=1, end_dim=-1)\n",
       "    (16): Linear(in_features=65536, out_features=2048, bias=True)\n",
       "    (17): ReLU()\n",
       "    (18): Linear(in_features=2048, out_features=512, bias=True)\n",
       "    (19): ReLU()\n",
       "    (20): Linear(in_features=512, out_features=128, bias=True)\n",
       "    (21): ReLU()\n",
       "    (22): Linear(in_features=128, out_features=2, bias=True)\n",
       "  )\n",
       ")"
      ]
     },
     "execution_count": 17,
     "metadata": {},
     "output_type": "execute_result"
    }
   ],
   "source": [
    "#move model to GPU\n",
    "to_device(model, DEVICE)"
   ]
  },
  {
   "cell_type": "code",
   "execution_count": 24,
   "id": "f4fbed08",
   "metadata": {},
   "outputs": [],
   "source": [
    "num_epochs = 50\n",
    "opt_func = torch.optim.Adam\n",
    "lr = 0.001"
   ]
  },
  {
   "cell_type": "code",
   "execution_count": 19,
   "id": "57f45e4a",
   "metadata": {},
   "outputs": [
    {
     "name": "stdout",
     "output_type": "stream",
     "text": [
      "Epoch [0], val_loss: 0.3108, val_acc: 0.8873\n",
      "Epoch [1], val_loss: 0.2723, val_acc: 0.9050\n",
      "Epoch [2], val_loss: 0.3067, val_acc: 0.8802\n",
      "Epoch [3], val_loss: 0.2341, val_acc: 0.9127\n",
      "Epoch [4], val_loss: 0.2116, val_acc: 0.9210\n",
      "Epoch [5], val_loss: 0.1734, val_acc: 0.9363\n",
      "Epoch [6], val_loss: 0.1887, val_acc: 0.9255\n",
      "Epoch [7], val_loss: 0.1811, val_acc: 0.9300\n",
      "Epoch [8], val_loss: 0.1912, val_acc: 0.9267\n",
      "Epoch [9], val_loss: 0.1548, val_acc: 0.9407\n",
      "Epoch [10], val_loss: 0.1762, val_acc: 0.9296\n",
      "Epoch [11], val_loss: 0.1673, val_acc: 0.9309\n",
      "Epoch [12], val_loss: 0.1543, val_acc: 0.9418\n",
      "Epoch [13], val_loss: 0.1478, val_acc: 0.9397\n",
      "Epoch [14], val_loss: 0.1365, val_acc: 0.9470\n",
      "Epoch [15], val_loss: 0.1583, val_acc: 0.9429\n",
      "Epoch [16], val_loss: 0.1549, val_acc: 0.9449\n",
      "Epoch [17], val_loss: 0.1453, val_acc: 0.9472\n",
      "Epoch [18], val_loss: 0.1489, val_acc: 0.9478\n",
      "Epoch [19], val_loss: 0.1215, val_acc: 0.9470\n",
      "Epoch [20], val_loss: 0.1716, val_acc: 0.9341\n",
      "Epoch [21], val_loss: 0.1104, val_acc: 0.9569\n",
      "Epoch [22], val_loss: 0.1464, val_acc: 0.9429\n",
      "Epoch [23], val_loss: 0.1150, val_acc: 0.9569\n",
      "Epoch [24], val_loss: 0.1758, val_acc: 0.9373\n",
      "Epoch [25], val_loss: 0.1121, val_acc: 0.9501\n",
      "Epoch [26], val_loss: 0.1398, val_acc: 0.9537\n",
      "Training finished after: 26 epoch\n"
     ]
    }
   ],
   "source": [
    "history_model_1 = fit(epochs=num_epochs, model=model, lr=lr, train_loader=train_loader, \n",
    "                      val_loader=val_loader, opt_func=opt_func)"
   ]
  },
  {
   "cell_type": "code",
   "execution_count": 20,
   "id": "130f916c",
   "metadata": {},
   "outputs": [],
   "source": [
    "train = [x['train_loss'] for x in history_model_1]\n",
    "val = [x['val_loss'] for x in history_model_1]\n",
    "acc = [x['val_acc'] for x in history_model_1]"
   ]
  },
  {
   "cell_type": "code",
   "execution_count": 21,
   "id": "fdd7e93b",
   "metadata": {},
   "outputs": [
    {
     "data": {
      "image/png": "[encoded data removed]",
      "text/plain": [
       "<Figure size 1500x500 with 2 Axes>"
      ]
     },
     "metadata": {},
     "output_type": "display_data"
    }
   ],
   "source": [
    "fig, ax = plt.subplots(ncols=2, nrows=1, figsize=(15,5))\n",
    "\n",
    "ax[0].plot(train, '-ro')\n",
    "ax[0].plot(val, '--bo')\n",
    "ax[0].set_xlabel('epoch')\n",
    "ax[0].set_ylabel('loss')\n",
    "ax[0].legend(['Training', 'Validation'])\n",
    "ax[1].plot(acc)\n",
    "ax[1].set_xlabel('epoch')\n",
    "ax[1].set_ylabel('accuracy')\n",
    "plt.show()"
   ]
  },
  {
   "cell_type": "markdown",
   "id": "22559d7f",
   "metadata": {},
   "source": [
    "As we can see the model is good but it starts overfitting around 17 epoch. Lets try out a new model with batchnomalization, dropout "
   ]
  },
  {
   "cell_type": "code",
   "execution_count": 20,
   "id": "5136fe78",
   "metadata": {},
   "outputs": [],
   "source": [
    "class ModelDropoutNorm(GeneralSteps):\n",
    "    \"\"\"Adding batch_normalization and dropout for previous model to see how it influences the training\"\"\"\n",
    "    \n",
    "    def __init__(self):\n",
    "        super().__init__()\n",
    "        self.network = nn.Sequential(\n",
    "            nn.Conv2d(1, 12, kernel_size=3, padding=1, padding_mode=\"zeros\"),\n",
    "            nn.BatchNorm2d(12),\n",
    "            nn.ReLU(),\n",
    "            nn.Dropout(0.2),\n",
    "            nn.Conv2d(12, 48, kernel_size=3, padding=1, padding_mode=\"zeros\"),\n",
    "            nn.BatchNorm2d(48),\n",
    "            nn.ReLU(),\n",
    "            nn.Dropout(0.2),\n",
    "            nn.MaxPool2d(2, 2),\n",
    "            \n",
    "            nn.Conv2d(48, 128, kernel_size=3, padding=1, padding_mode=\"zeros\"),\n",
    "            nn.BatchNorm2d(128),\n",
    "            nn.ReLU(),\n",
    "            nn.Dropout(0.3),\n",
    "            nn.Conv2d(128, 128, kernel_size=3, padding=1, padding_mode=\"zeros\"),\n",
    "            nn.BatchNorm2d(128),\n",
    "            nn.ReLU(),\n",
    "            nn.Dropout(0.3),\n",
    "            nn.MaxPool2d(2, 2), \n",
    "            \n",
    "            nn.Conv2d(128, 256, kernel_size=3, padding=1, padding_mode=\"zeros\"),\n",
    "            nn.BatchNorm2d(256),\n",
    "            nn.ReLU(),\n",
    "            nn.Dropout(0.3),\n",
    "            nn.Conv2d(256, 256, kernel_size=3, padding=1, padding_mode=\"zeros\"),\n",
    "            nn.BatchNorm2d(256),\n",
    "            nn.ReLU(),\n",
    "            nn.Dropout(0.3),\n",
    "            nn.MaxPool2d(2, 2),\n",
    "            \n",
    "            nn.Flatten(), \n",
    "            nn.Linear(256*16*16, 2048),\n",
    "            nn.ReLU(),\n",
    "            nn.Dropout(0.5),\n",
    "            nn.Linear(2048, 512),\n",
    "            nn.ReLU(),\n",
    "            nn.Dropout(0.5),\n",
    "            nn.Linear(512, 128),\n",
    "            nn.ReLU(),\n",
    "            nn.Dropout(0.5),\n",
    "            nn.Linear(128, 2))\n",
    "        \n",
    "    def forward(self, xb):\n",
    "        return self.network(xb)"
   ]
  },
  {
   "cell_type": "code",
   "execution_count": 21,
   "id": "02a7eb71",
   "metadata": {},
   "outputs": [],
   "source": [
    "model2 = ModelDropoutNorm()"
   ]
  },
  {
   "cell_type": "code",
   "execution_count": 22,
   "id": "f5302325",
   "metadata": {},
   "outputs": [
    {
     "data": {
      "text/plain": [
       "ModelDropoutNorm(\n",
       "  (network): Sequential(\n",
       "    (0): Conv2d(1, 12, kernel_size=(3, 3), stride=(1, 1), padding=(1, 1))\n",
       "    (1): BatchNorm2d(12, eps=1e-05, momentum=0.1, affine=True, track_running_stats=True)\n",
       "    (2): ReLU()\n",
       "    (3): Dropout(p=0.2, inplace=False)\n",
       "    (4): Conv2d(12, 48, kernel_size=(3, 3), stride=(1, 1), padding=(1, 1))\n",
       "    (5): BatchNorm2d(48, eps=1e-05, momentum=0.1, affine=True, track_running_stats=True)\n",
       "    (6): ReLU()\n",
       "    (7): Dropout(p=0.2, inplace=False)\n",
       "    (8): MaxPool2d(kernel_size=2, stride=2, padding=0, dilation=1, ceil_mode=False)\n",
       "    (9): Conv2d(48, 128, kernel_size=(3, 3), stride=(1, 1), padding=(1, 1))\n",
       "    (10): BatchNorm2d(128, eps=1e-05, momentum=0.1, affine=True, track_running_stats=True)\n",
       "    (11): ReLU()\n",
       "    (12): Dropout(p=0.3, inplace=False)\n",
       "    (13): Conv2d(128, 128, kernel_size=(3, 3), stride=(1, 1), padding=(1, 1))\n",
       "    (14): BatchNorm2d(128, eps=1e-05, momentum=0.1, affine=True, track_running_stats=True)\n",
       "    (15): ReLU()\n",
       "    (16): Dropout(p=0.3, inplace=False)\n",
       "    (17): MaxPool2d(kernel_size=2, stride=2, padding=0, dilation=1, ceil_mode=False)\n",
       "    (18): Conv2d(128, 256, kernel_size=(3, 3), stride=(1, 1), padding=(1, 1))\n",
       "    (19): BatchNorm2d(256, eps=1e-05, momentum=0.1, affine=True, track_running_stats=True)\n",
       "    (20): ReLU()\n",
       "    (21): Dropout(p=0.3, inplace=False)\n",
       "    (22): Conv2d(256, 256, kernel_size=(3, 3), stride=(1, 1), padding=(1, 1))\n",
       "    (23): BatchNorm2d(256, eps=1e-05, momentum=0.1, affine=True, track_running_stats=True)\n",
       "    (24): ReLU()\n",
       "    (25): Dropout(p=0.3, inplace=False)\n",
       "    (26): MaxPool2d(kernel_size=2, stride=2, padding=0, dilation=1, ceil_mode=False)\n",
       "    (27): Flatten(start_dim=1, end_dim=-1)\n",
       "    (28): Linear(in_features=65536, out_features=2048, bias=True)\n",
       "    (29): ReLU()\n",
       "    (30): Dropout(p=0.5, inplace=False)\n",
       "    (31): Linear(in_features=2048, out_features=512, bias=True)\n",
       "    (32): ReLU()\n",
       "    (33): Dropout(p=0.5, inplace=False)\n",
       "    (34): Linear(in_features=512, out_features=128, bias=True)\n",
       "    (35): ReLU()\n",
       "    (36): Dropout(p=0.5, inplace=False)\n",
       "    (37): Linear(in_features=128, out_features=2, bias=True)\n",
       "  )\n",
       ")"
      ]
     },
     "execution_count": 22,
     "metadata": {},
     "output_type": "execute_result"
    }
   ],
   "source": [
    "to_device(model2, DEVICE)"
   ]
  },
  {
   "cell_type": "code",
   "execution_count": 27,
   "id": "b24da47e",
   "metadata": {},
   "outputs": [
    {
     "ename": "OutOfMemoryError",
     "evalue": "CUDA out of memory. Tried to allocate 128.00 MiB (GPU 0; 5.79 GiB total capacity; 3.93 GiB already allocated; 128.94 MiB free; 4.00 GiB reserved in total by PyTorch) If reserved memory is >> allocated memory try setting max_split_size_mb to avoid fragmentation.  See documentation for Memory Management and PYTORCH_CUDA_ALLOC_CONF",
     "output_type": "error",
     "traceback": [
      "\u001b[0;31m---------------------------------------------------------------------------\u001b[0m",
      "\u001b[0;31mOutOfMemoryError\u001b[0m                          Traceback (most recent call last)",
      "Cell \u001b[0;32mIn[27], line 1\u001b[0m\n\u001b[0;32m----> 1\u001b[0m history_model_2 \u001b[38;5;241m=\u001b[39m \u001b[43mfit\u001b[49m\u001b[43m(\u001b[49m\u001b[43mepochs\u001b[49m\u001b[38;5;241;43m=\u001b[39;49m\u001b[43mnum_epochs\u001b[49m\u001b[43m,\u001b[49m\u001b[43m \u001b[49m\u001b[43mmodel\u001b[49m\u001b[38;5;241;43m=\u001b[39;49m\u001b[43mmodel2\u001b[49m\u001b[43m,\u001b[49m\u001b[43m \u001b[49m\u001b[43mlr\u001b[49m\u001b[38;5;241;43m=\u001b[39;49m\u001b[43mlr\u001b[49m\u001b[43m,\u001b[49m\u001b[43m \u001b[49m\u001b[43mtrain_loader\u001b[49m\u001b[38;5;241;43m=\u001b[39;49m\u001b[43mtrain_loader\u001b[49m\u001b[43m,\u001b[49m\u001b[43m \u001b[49m\n\u001b[1;32m      2\u001b[0m \u001b[43m                      \u001b[49m\u001b[43mval_loader\u001b[49m\u001b[38;5;241;43m=\u001b[39;49m\u001b[43mval_loader\u001b[49m\u001b[43m,\u001b[49m\u001b[43m \u001b[49m\u001b[43mopt_func\u001b[49m\u001b[38;5;241;43m=\u001b[39;49m\u001b[43mopt_func\u001b[49m\u001b[43m,\u001b[49m\u001b[43m \u001b[49m\n\u001b[1;32m      3\u001b[0m \u001b[43m                      \u001b[49m\u001b[43mearly_stop\u001b[49m\u001b[38;5;241;43m=\u001b[39;49m\u001b[43mEarlyStoppingCallback\u001b[49m\u001b[43m(\u001b[49m\u001b[43mmodel_path\u001b[49m\u001b[38;5;241;43m=\u001b[39;49m\u001b[43mSECOND_MODEL_PATH\u001b[49m\u001b[43m)\u001b[49m\u001b[43m)\u001b[49m\n",
      "Cell \u001b[0;32mIn[16], line 10\u001b[0m, in \u001b[0;36mfit\u001b[0;34m(epochs, lr, model, train_loader, val_loader, opt_func, early_stop)\u001b[0m\n\u001b[1;32m      8\u001b[0m train_loss \u001b[38;5;241m=\u001b[39m []       \n\u001b[1;32m      9\u001b[0m \u001b[38;5;28;01mfor\u001b[39;00m batch \u001b[38;5;129;01min\u001b[39;00m train_loader:\n\u001b[0;32m---> 10\u001b[0m     loss \u001b[38;5;241m=\u001b[39m \u001b[43mmodel\u001b[49m\u001b[38;5;241;43m.\u001b[39;49m\u001b[43mtraining_step\u001b[49m\u001b[43m(\u001b[49m\u001b[43mbatch\u001b[49m\u001b[43m)\u001b[49m\n\u001b[1;32m     11\u001b[0m     train_loss\u001b[38;5;241m.\u001b[39mappend(loss)\n\u001b[1;32m     12\u001b[0m     loss\u001b[38;5;241m.\u001b[39mbackward()\n",
      "Cell \u001b[0;32mIn[18], line 9\u001b[0m, in \u001b[0;36mGeneralSteps.training_step\u001b[0;34m(self, batch, l1_weight)\u001b[0m\n\u001b[1;32m      7\u001b[0m \u001b[38;5;28;01mdef\u001b[39;00m \u001b[38;5;21mtraining_step\u001b[39m(\u001b[38;5;28mself\u001b[39m, batch, l1_weight\u001b[38;5;241m=\u001b[39m\u001b[38;5;241m0.001\u001b[39m):\n\u001b[1;32m      8\u001b[0m     images, labels \u001b[38;5;241m=\u001b[39m batch\n\u001b[0;32m----> 9\u001b[0m     out \u001b[38;5;241m=\u001b[39m \u001b[38;5;28;43mself\u001b[39;49m\u001b[43m(\u001b[49m\u001b[43mimages\u001b[49m\u001b[43m)\u001b[49m\n\u001b[1;32m     10\u001b[0m     ce_loss \u001b[38;5;241m=\u001b[39m F\u001b[38;5;241m.\u001b[39mcross_entropy(out, labels) \u001b[38;5;66;03m#cross entropy loss\u001b[39;00m\n\u001b[1;32m     11\u001b[0m     l1_loss \u001b[38;5;241m=\u001b[39m l1_weight \u001b[38;5;241m*\u001b[39m torch\u001b[38;5;241m.\u001b[39mnorm(\u001b[38;5;28mself\u001b[39m\u001b[38;5;241m.\u001b[39mparameters(), p\u001b[38;5;241m=\u001b[39m\u001b[38;5;241m1\u001b[39m) \u001b[38;5;66;03m#Added l1 regularization to see how it can improve\u001b[39;00m\n",
      "File \u001b[0;32m~/miniconda3/envs/x_ray/lib/python3.10/site-packages/torch/nn/modules/module.py:1194\u001b[0m, in \u001b[0;36mModule._call_impl\u001b[0;34m(self, *input, **kwargs)\u001b[0m\n\u001b[1;32m   1190\u001b[0m \u001b[38;5;66;03m# If we don't have any hooks, we want to skip the rest of the logic in\u001b[39;00m\n\u001b[1;32m   1191\u001b[0m \u001b[38;5;66;03m# this function, and just call forward.\u001b[39;00m\n\u001b[1;32m   1192\u001b[0m \u001b[38;5;28;01mif\u001b[39;00m \u001b[38;5;129;01mnot\u001b[39;00m (\u001b[38;5;28mself\u001b[39m\u001b[38;5;241m.\u001b[39m_backward_hooks \u001b[38;5;129;01mor\u001b[39;00m \u001b[38;5;28mself\u001b[39m\u001b[38;5;241m.\u001b[39m_forward_hooks \u001b[38;5;129;01mor\u001b[39;00m \u001b[38;5;28mself\u001b[39m\u001b[38;5;241m.\u001b[39m_forward_pre_hooks \u001b[38;5;129;01mor\u001b[39;00m _global_backward_hooks\n\u001b[1;32m   1193\u001b[0m         \u001b[38;5;129;01mor\u001b[39;00m _global_forward_hooks \u001b[38;5;129;01mor\u001b[39;00m _global_forward_pre_hooks):\n\u001b[0;32m-> 1194\u001b[0m     \u001b[38;5;28;01mreturn\u001b[39;00m \u001b[43mforward_call\u001b[49m\u001b[43m(\u001b[49m\u001b[38;5;241;43m*\u001b[39;49m\u001b[38;5;28;43minput\u001b[39;49m\u001b[43m,\u001b[49m\u001b[43m \u001b[49m\u001b[38;5;241;43m*\u001b[39;49m\u001b[38;5;241;43m*\u001b[39;49m\u001b[43mkwargs\u001b[49m\u001b[43m)\u001b[49m\n\u001b[1;32m   1195\u001b[0m \u001b[38;5;66;03m# Do not call functions when jit is used\u001b[39;00m\n\u001b[1;32m   1196\u001b[0m full_backward_hooks, non_full_backward_hooks \u001b[38;5;241m=\u001b[39m [], []\n",
      "Cell \u001b[0;32mIn[20], line 50\u001b[0m, in \u001b[0;36mModelDropoutNorm.forward\u001b[0;34m(self, xb)\u001b[0m\n\u001b[1;32m     49\u001b[0m \u001b[38;5;28;01mdef\u001b[39;00m \u001b[38;5;21mforward\u001b[39m(\u001b[38;5;28mself\u001b[39m, xb):\n\u001b[0;32m---> 50\u001b[0m     \u001b[38;5;28;01mreturn\u001b[39;00m \u001b[38;5;28;43mself\u001b[39;49m\u001b[38;5;241;43m.\u001b[39;49m\u001b[43mnetwork\u001b[49m\u001b[43m(\u001b[49m\u001b[43mxb\u001b[49m\u001b[43m)\u001b[49m\n",
      "File \u001b[0;32m~/miniconda3/envs/x_ray/lib/python3.10/site-packages/torch/nn/modules/module.py:1194\u001b[0m, in \u001b[0;36mModule._call_impl\u001b[0;34m(self, *input, **kwargs)\u001b[0m\n\u001b[1;32m   1190\u001b[0m \u001b[38;5;66;03m# If we don't have any hooks, we want to skip the rest of the logic in\u001b[39;00m\n\u001b[1;32m   1191\u001b[0m \u001b[38;5;66;03m# this function, and just call forward.\u001b[39;00m\n\u001b[1;32m   1192\u001b[0m \u001b[38;5;28;01mif\u001b[39;00m \u001b[38;5;129;01mnot\u001b[39;00m (\u001b[38;5;28mself\u001b[39m\u001b[38;5;241m.\u001b[39m_backward_hooks \u001b[38;5;129;01mor\u001b[39;00m \u001b[38;5;28mself\u001b[39m\u001b[38;5;241m.\u001b[39m_forward_hooks \u001b[38;5;129;01mor\u001b[39;00m \u001b[38;5;28mself\u001b[39m\u001b[38;5;241m.\u001b[39m_forward_pre_hooks \u001b[38;5;129;01mor\u001b[39;00m _global_backward_hooks\n\u001b[1;32m   1193\u001b[0m         \u001b[38;5;129;01mor\u001b[39;00m _global_forward_hooks \u001b[38;5;129;01mor\u001b[39;00m _global_forward_pre_hooks):\n\u001b[0;32m-> 1194\u001b[0m     \u001b[38;5;28;01mreturn\u001b[39;00m \u001b[43mforward_call\u001b[49m\u001b[43m(\u001b[49m\u001b[38;5;241;43m*\u001b[39;49m\u001b[38;5;28;43minput\u001b[39;49m\u001b[43m,\u001b[49m\u001b[43m \u001b[49m\u001b[38;5;241;43m*\u001b[39;49m\u001b[38;5;241;43m*\u001b[39;49m\u001b[43mkwargs\u001b[49m\u001b[43m)\u001b[49m\n\u001b[1;32m   1195\u001b[0m \u001b[38;5;66;03m# Do not call functions when jit is used\u001b[39;00m\n\u001b[1;32m   1196\u001b[0m full_backward_hooks, non_full_backward_hooks \u001b[38;5;241m=\u001b[39m [], []\n",
      "File \u001b[0;32m~/miniconda3/envs/x_ray/lib/python3.10/site-packages/torch/nn/modules/container.py:204\u001b[0m, in \u001b[0;36mSequential.forward\u001b[0;34m(self, input)\u001b[0m\n\u001b[1;32m    202\u001b[0m \u001b[38;5;28;01mdef\u001b[39;00m \u001b[38;5;21mforward\u001b[39m(\u001b[38;5;28mself\u001b[39m, \u001b[38;5;28minput\u001b[39m):\n\u001b[1;32m    203\u001b[0m     \u001b[38;5;28;01mfor\u001b[39;00m module \u001b[38;5;129;01min\u001b[39;00m \u001b[38;5;28mself\u001b[39m:\n\u001b[0;32m--> 204\u001b[0m         \u001b[38;5;28minput\u001b[39m \u001b[38;5;241m=\u001b[39m \u001b[43mmodule\u001b[49m\u001b[43m(\u001b[49m\u001b[38;5;28;43minput\u001b[39;49m\u001b[43m)\u001b[49m\n\u001b[1;32m    205\u001b[0m     \u001b[38;5;28;01mreturn\u001b[39;00m \u001b[38;5;28minput\u001b[39m\n",
      "File \u001b[0;32m~/miniconda3/envs/x_ray/lib/python3.10/site-packages/torch/nn/modules/module.py:1194\u001b[0m, in \u001b[0;36mModule._call_impl\u001b[0;34m(self, *input, **kwargs)\u001b[0m\n\u001b[1;32m   1190\u001b[0m \u001b[38;5;66;03m# If we don't have any hooks, we want to skip the rest of the logic in\u001b[39;00m\n\u001b[1;32m   1191\u001b[0m \u001b[38;5;66;03m# this function, and just call forward.\u001b[39;00m\n\u001b[1;32m   1192\u001b[0m \u001b[38;5;28;01mif\u001b[39;00m \u001b[38;5;129;01mnot\u001b[39;00m (\u001b[38;5;28mself\u001b[39m\u001b[38;5;241m.\u001b[39m_backward_hooks \u001b[38;5;129;01mor\u001b[39;00m \u001b[38;5;28mself\u001b[39m\u001b[38;5;241m.\u001b[39m_forward_hooks \u001b[38;5;129;01mor\u001b[39;00m \u001b[38;5;28mself\u001b[39m\u001b[38;5;241m.\u001b[39m_forward_pre_hooks \u001b[38;5;129;01mor\u001b[39;00m _global_backward_hooks\n\u001b[1;32m   1193\u001b[0m         \u001b[38;5;129;01mor\u001b[39;00m _global_forward_hooks \u001b[38;5;129;01mor\u001b[39;00m _global_forward_pre_hooks):\n\u001b[0;32m-> 1194\u001b[0m     \u001b[38;5;28;01mreturn\u001b[39;00m \u001b[43mforward_call\u001b[49m\u001b[43m(\u001b[49m\u001b[38;5;241;43m*\u001b[39;49m\u001b[38;5;28;43minput\u001b[39;49m\u001b[43m,\u001b[49m\u001b[43m \u001b[49m\u001b[38;5;241;43m*\u001b[39;49m\u001b[38;5;241;43m*\u001b[39;49m\u001b[43mkwargs\u001b[49m\u001b[43m)\u001b[49m\n\u001b[1;32m   1195\u001b[0m \u001b[38;5;66;03m# Do not call functions when jit is used\u001b[39;00m\n\u001b[1;32m   1196\u001b[0m full_backward_hooks, non_full_backward_hooks \u001b[38;5;241m=\u001b[39m [], []\n",
      "File \u001b[0;32m~/miniconda3/envs/x_ray/lib/python3.10/site-packages/torch/nn/modules/activation.py:102\u001b[0m, in \u001b[0;36mReLU.forward\u001b[0;34m(self, input)\u001b[0m\n\u001b[1;32m    101\u001b[0m \u001b[38;5;28;01mdef\u001b[39;00m \u001b[38;5;21mforward\u001b[39m(\u001b[38;5;28mself\u001b[39m, \u001b[38;5;28minput\u001b[39m: Tensor) \u001b[38;5;241m-\u001b[39m\u001b[38;5;241m>\u001b[39m Tensor:\n\u001b[0;32m--> 102\u001b[0m     \u001b[38;5;28;01mreturn\u001b[39;00m \u001b[43mF\u001b[49m\u001b[38;5;241;43m.\u001b[39;49m\u001b[43mrelu\u001b[49m\u001b[43m(\u001b[49m\u001b[38;5;28;43minput\u001b[39;49m\u001b[43m,\u001b[49m\u001b[43m \u001b[49m\u001b[43minplace\u001b[49m\u001b[38;5;241;43m=\u001b[39;49m\u001b[38;5;28;43mself\u001b[39;49m\u001b[38;5;241;43m.\u001b[39;49m\u001b[43minplace\u001b[49m\u001b[43m)\u001b[49m\n",
      "File \u001b[0;32m~/miniconda3/envs/x_ray/lib/python3.10/site-packages/torch/nn/functional.py:1457\u001b[0m, in \u001b[0;36mrelu\u001b[0;34m(input, inplace)\u001b[0m\n\u001b[1;32m   1455\u001b[0m     result \u001b[38;5;241m=\u001b[39m torch\u001b[38;5;241m.\u001b[39mrelu_(\u001b[38;5;28minput\u001b[39m)\n\u001b[1;32m   1456\u001b[0m \u001b[38;5;28;01melse\u001b[39;00m:\n\u001b[0;32m-> 1457\u001b[0m     result \u001b[38;5;241m=\u001b[39m \u001b[43mtorch\u001b[49m\u001b[38;5;241;43m.\u001b[39;49m\u001b[43mrelu\u001b[49m\u001b[43m(\u001b[49m\u001b[38;5;28;43minput\u001b[39;49m\u001b[43m)\u001b[49m\n\u001b[1;32m   1458\u001b[0m \u001b[38;5;28;01mreturn\u001b[39;00m result\n",
      "\u001b[0;31mOutOfMemoryError\u001b[0m: CUDA out of memory. Tried to allocate 128.00 MiB (GPU 0; 5.79 GiB total capacity; 3.93 GiB already allocated; 128.94 MiB free; 4.00 GiB reserved in total by PyTorch) If reserved memory is >> allocated memory try setting max_split_size_mb to avoid fragmentation.  See documentation for Memory Management and PYTORCH_CUDA_ALLOC_CONF"
     ]
    }
   ],
   "source": [
    "history_model_2 = fit(epochs=num_epochs, model=model2, lr=lr, train_loader=train_loader, \n",
    "                      val_loader=val_loader, opt_func=opt_func, \n",
    "                      early_stop=EarlyStoppingCallback(model_path=SECOND_MODEL_PATH))"
   ]
  }
 ],
 "metadata": {
  "kernelspec": {
   "display_name": "Python 3 (ipykernel)",
   "language": "python",
   "name": "python3"
  },
  "language_info": {
   "codemirror_mode": {
    "name": "ipython",
    "version": 3
   },
   "file_extension": ".py",
   "mimetype": "text/x-python",
   "name": "python",
   "nbconvert_exporter": "python",
   "pygments_lexer": "ipython3",
   "version": "3.10.8"
  }
 },
 "nbformat": 4,
 "nbformat_minor": 5
}
